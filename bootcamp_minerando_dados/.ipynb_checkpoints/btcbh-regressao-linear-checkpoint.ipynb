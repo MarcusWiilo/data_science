{
 "cells": [
  {
   "cell_type": "markdown",
   "metadata": {
    "colab_type": "text",
    "id": "-lIUD1YFIIXO"
   },
   "source": [
    " # Machine Learning - Regressão Linear"
   ]
  },
  {
   "cell_type": "markdown",
   "metadata": {
    "colab_type": "text",
    "id": "58_F4CMMIIXT"
   },
   "source": [
    "- Regressão Linear aplicada ao dados do mercado financeiro.\n",
    "- O Objetivo é criar um modelo que consiga predizar o valor de fechamento de uma ação.\n",
    "- Vamos treinar o algoritmo e validar o modelo."
   ]
  },
  {
   "cell_type": "markdown",
   "metadata": {
    "colab_type": "text",
    "id": "6qODP9FEIIXX"
   },
   "source": [
    "## Scripts e Base de dados"
   ]
  },
  {
   "cell_type": "markdown",
   "metadata": {
    "colab_type": "text",
    "id": "oom5hVOgIIXf"
   },
   "source": [
    "**Bibliotecas utilizadas**"
   ]
  },
  {
   "cell_type": "code",
   "execution_count": null,
   "metadata": {
    "colab": {},
    "colab_type": "code",
    "id": "5BPewaigIIXj",
    "outputId": "931e405d-d04d-4b6f-d74a-96007773a87f"
   },
   "outputs": [],
   "source": [
    "!pip install plotly"
   ]
  },
  {
   "cell_type": "code",
   "execution_count": null,
   "metadata": {
    "colab": {},
    "colab_type": "code",
    "id": "VrIbT0uUIIX1",
    "outputId": "c314d1b1-1c5b-4ce4-92ab-e002dfc10ef4"
   },
   "outputs": [],
   "source": [
    "import pandas as pd\n",
    "from sklearn.linear_model import LinearRegression\n",
    "from sklearn.model_selection import train_test_split\n",
    "from sklearn.metrics import mean_squared_error\n",
    "import matplotlib.pyplot as plt\n",
    "import plotly.graph_objs as go\n",
    "import plotly.offline as py\n",
    "import plotly\n",
    "plotly.offline.init_notebook_mode()\n",
    "import datetime"
   ]
  },
  {
   "cell_type": "markdown",
   "metadata": {
    "colab_type": "text",
    "id": "GP2oLjcKIIYD"
   },
   "source": [
    "**Lendo o arquivo de dados e alterando o tipo data**"
   ]
  },
  {
   "cell_type": "code",
   "execution_count": null,
   "metadata": {
    "colab": {},
    "colab_type": "code",
    "id": "kCjUv8x0IIYG"
   },
   "outputs": [],
   "source": [
    "dataset = pd.read_csv('PETR4_train.csv')"
   ]
  },
  {
   "cell_type": "code",
   "execution_count": null,
   "metadata": {
    "colab": {},
    "colab_type": "code",
    "id": "mPo7BBnNIIYM"
   },
   "outputs": [],
   "source": [
    "# Transformando a coluna Date em uma coluna do tipo Datetime\n",
    "dataset['Date'] = pd.to_datetime(dataset['Date'])\n"
   ]
  },
  {
   "cell_type": "code",
   "execution_count": null,
   "metadata": {
    "colab": {},
    "colab_type": "code",
    "id": "54m9TxVTIIYQ",
    "outputId": "04712847-9ed3-49c2-886d-7da233372be2"
   },
   "outputs": [],
   "source": [
    "# Visualizando os dados\n",
    "dataset.head()"
   ]
  },
  {
   "cell_type": "code",
   "execution_count": null,
   "metadata": {
    "colab": {},
    "colab_type": "code",
    "id": "Fv8x7YDWIIYV",
    "outputId": "381a82f9-d1ec-479b-e9ef-48544d20401e"
   },
   "outputs": [],
   "source": [
    "dataset.tail()"
   ]
  },
  {
   "cell_type": "code",
   "execution_count": null,
   "metadata": {
    "colab": {},
    "colab_type": "code",
    "id": "9phdUM11IIYa"
   },
   "outputs": [],
   "source": [
    "# Variação entre o preco de abertura e fechamento\n",
    "dataset['Variation'] = dataset['Close'].sub(dataset['Open'])"
   ]
  },
  {
   "cell_type": "code",
   "execution_count": null,
   "metadata": {
    "colab": {},
    "colab_type": "code",
    "id": "FKDFW61ZIIYf",
    "outputId": "436eb2ec-b5b6-4270-8d94-abf616962403"
   },
   "outputs": [],
   "source": [
    "dataset.head()"
   ]
  },
  {
   "cell_type": "markdown",
   "metadata": {
    "colab_type": "text",
    "id": "yyCf2_75IIYj"
   },
   "source": [
    "**Visualização de dados**"
   ]
  },
  {
   "cell_type": "code",
   "execution_count": null,
   "metadata": {
    "colab": {},
    "colab_type": "code",
    "id": "OvZPH-ouIIYk",
    "outputId": "1e0f61bc-7648-4da3-eb4b-44aafc14f04f"
   },
   "outputs": [],
   "source": [
    "# Plota o valor os preços no periodo analisado 2010 a 2017.\n",
    "# Utiliza a biblioteca pyplot para plotar dados financeiros temporais.\n",
    "\n",
    "x1=dataset.Date\n",
    "y1=dataset.Close\n",
    "data = [go.Scatter(x=x1, y=y1)]\n",
    "layout = go.Layout(\n",
    "    xaxis=dict(\n",
    "        range=['01-01-2018','30-09-2018'],\n",
    "        title='Ano'              \n",
    "    ),\n",
    "    yaxis=dict(\n",
    "        range=[min(x1), max(y1)],\n",
    "        title='Valor da Acao'\n",
    "    ))\n",
    "fig = go.Figure(data = data, layout = layout)\n",
    "py.iplot(fig)"
   ]
  },
  {
   "cell_type": "markdown",
   "metadata": {
    "colab_type": "text",
    "id": "Y2eKs-0pIIYr"
   },
   "source": [
    "**Preços em formato de Candlestick**"
   ]
  },
  {
   "cell_type": "code",
   "execution_count": null,
   "metadata": {
    "colab": {},
    "colab_type": "code",
    "id": "SqLsEv4LIIYs",
    "outputId": "76e9b2b4-baf1-45b7-f917-11ca04cf876a"
   },
   "outputs": [],
   "source": [
    "# Visualizando os Candlesticks\n",
    "\n",
    "dados = go.Candlestick(x=dataset.Date,\n",
    "                       open=dataset.Open,\n",
    "                       high=dataset.High,\n",
    "                       low=dataset.Low,\n",
    "                       close=dataset.Close,\n",
    "                       )\n",
    "\n",
    "data=[dados]\n",
    "\n",
    "py.offline.iplot(data,filename='grafico_candlestick')"
   ]
  },
  {
   "cell_type": "markdown",
   "metadata": {
    "colab_type": "text",
    "id": "ADB2MWqQIIYw"
   },
   "source": [
    "**Plota a variação no período**"
   ]
  },
  {
   "cell_type": "code",
   "execution_count": null,
   "metadata": {
    "colab": {},
    "colab_type": "code",
    "id": "jusI6558IIYx",
    "outputId": "9a765704-94e2-4a45-dbf2-cb826fd881fc"
   },
   "outputs": [],
   "source": [
    "# Plota a variação no período\n",
    "%matplotlib notebook\n",
    "import matplotlib.dates as mdates\n",
    "import datetime as dt\n",
    "x = dataset['Date']\n",
    "y = dataset['Variation']\n",
    "plt.plot_date(x,y, color='r',fmt=\"r-\")\n",
    "plt.xticks(rotation=30)\n",
    "plt.show()"
   ]
  },
  {
   "cell_type": "markdown",
   "metadata": {
    "colab_type": "text",
    "id": "TWRQlWuCIIY0"
   },
   "source": [
    "**Correlação de Features e classe**"
   ]
  },
  {
   "cell_type": "code",
   "execution_count": null,
   "metadata": {
    "colab": {},
    "colab_type": "code",
    "id": "K4o3hZJ0IIY1"
   },
   "outputs": [],
   "source": [
    "# Crian uma variável chamada treino\n",
    "treino = dataset"
   ]
  },
  {
   "cell_type": "code",
   "execution_count": null,
   "metadata": {
    "colab": {},
    "colab_type": "code",
    "id": "oOuSu308IIY3",
    "outputId": "3e0adde8-0737-499e-93e0-73ce64a83f7d",
    "scrolled": false
   },
   "outputs": [],
   "source": [
    "# Plota a dispersao entre o preço de abertura(Open) e fechamento(Close) dos últimos 100 dias.\n",
    "%matplotlib notebook\n",
    "x = treino.Open[:100]\n",
    "y = treino.Close[:100]\n",
    "plt.scatter(x,y,color='b')\n",
    "plt.xlabel('preco de abertura')\n",
    "plt.ylabel('preco de fechamento')\n",
    "plt.axis([min(x),max(x),min(y),max(y)])\n",
    "plt.autoscale('False')\n",
    "plt.show()"
   ]
  },
  {
   "cell_type": "code",
   "execution_count": null,
   "metadata": {
    "colab": {},
    "colab_type": "code",
    "id": "v6aqQZQcIIY7",
    "outputId": "8a6289e6-afce-4213-9990-2a9bacd0e677"
   },
   "outputs": [],
   "source": [
    "# Plota a dispersao entre o preço de máxima (high) e fechamento(Close) dos últimos 100 dias.\n",
    "%matplotlib notebook\n",
    "x = treino.High[:100]\n",
    "y = treino.Close[:100]\n",
    "plt.scatter(x,y,color='b')\n",
    "plt.xlabel('preco da maxima')\n",
    "plt.ylabel('preco de fechamento')\n",
    "plt.axis([min(x),max(x),min(y),max(y)])\n",
    "plt.autoscale('False')\n",
    "plt.show()"
   ]
  },
  {
   "cell_type": "code",
   "execution_count": null,
   "metadata": {
    "colab": {},
    "colab_type": "code",
    "id": "Z2tT1S6YIIY_",
    "outputId": "c515e083-70ca-4fed-ce47-23812b130d52"
   },
   "outputs": [],
   "source": [
    "# Plota a dispersao entre o preço de mínima(Low) e fechamento(Close) dos últimos 100 dias.\n",
    "%matplotlib notebook\n",
    "x = treino.Low[:100]\n",
    "y = treino.Close[:100]\n",
    "plt.scatter(x,y,color='b')\n",
    "plt.xlabel('preco de Minima')\n",
    "plt.ylabel('preco de fechamento')\n",
    "plt.axis([min(x),max(x),min(y),max(y)])\n",
    "plt.autoscale('False')\n",
    "plt.show()"
   ]
  },
  {
   "cell_type": "code",
   "execution_count": null,
   "metadata": {
    "colab": {},
    "colab_type": "code",
    "id": "ibRy4MbDIIZC",
    "outputId": "2214f247-7b7a-4dc1-d212-8f8b64866375"
   },
   "outputs": [],
   "source": [
    "# Plota a dispersao entre o Volume e fechamento(Close) dos últimos 100 dias.\n",
    "% matplotlib notebook\n",
    "x = treino.Volume[:100]\n",
    "y = treino.Close[:100]\n",
    "plt.scatter(x,y,color='b')\n",
    "plt.xlabel('Volume')\n",
    "plt.ylabel('preco de fechamento')\n",
    "plt.axis([min(x),max(x),min(y),max(y)])\n",
    "plt.ticklabel_format(style='plain', axis='x')\n",
    "plt.autoscale('False')\n",
    "plt.xticks(rotation=45)\n",
    "plt.show()"
   ]
  },
  {
   "cell_type": "markdown",
   "metadata": {
    "colab_type": "text",
    "id": "KYHqbnYNIIZG"
   },
   "source": [
    "**Separação dos dados de treino e a classe**"
   ]
  },
  {
   "cell_type": "code",
   "execution_count": null,
   "metadata": {
    "colab": {},
    "colab_type": "code",
    "id": "pTVQywDmIIZH"
   },
   "outputs": [],
   "source": [
    "# Variaveis do modelo\n",
    "features = ['Open','High','Low','Volume']\n",
    "X_train = dataset[features]"
   ]
  },
  {
   "cell_type": "code",
   "execution_count": null,
   "metadata": {
    "colab": {},
    "colab_type": "code",
    "id": "ZC4wMH8_IIZJ",
    "outputId": "afae5139-b515-480a-9533-64fd7a27e7c8"
   },
   "outputs": [],
   "source": [
    "# Visualizando os dados sem as classes\n",
    "X_train.head()"
   ]
  },
  {
   "cell_type": "code",
   "execution_count": null,
   "metadata": {
    "colab": {},
    "colab_type": "code",
    "id": "VPcK1U6WIIZN"
   },
   "outputs": [],
   "source": [
    "# Y recebe o preço de fechamento (classes)\n",
    "y_train = dataset['Close']"
   ]
  },
  {
   "cell_type": "code",
   "execution_count": null,
   "metadata": {
    "colab": {},
    "colab_type": "code",
    "id": "5zlPT1xQIIZQ",
    "outputId": "1b59cff8-3a58-493c-8cbc-dbac7dca7141"
   },
   "outputs": [],
   "source": [
    "# Visualizando o dataframe y\n",
    "y_train.head()"
   ]
  },
  {
   "cell_type": "markdown",
   "metadata": {
    "colab_type": "text",
    "id": "p4-aGCXeIIZV"
   },
   "source": [
    "# Treinando o algoritmo de Regressão Linear"
   ]
  },
  {
   "cell_type": "code",
   "execution_count": null,
   "metadata": {
    "colab": {},
    "colab_type": "code",
    "id": "litLV0JuIIZX"
   },
   "outputs": [],
   "source": [
    "# Cria um objeto do tipo LinearRegression.\n",
    "lr_model = LinearRegression()"
   ]
  },
  {
   "cell_type": "code",
   "execution_count": null,
   "metadata": {
    "colab": {},
    "colab_type": "code",
    "id": "M-HLZqs6IIZd",
    "outputId": "7acedcd9-c9e0-4bfe-acdd-d3eeb61c9e1b"
   },
   "outputs": [],
   "source": [
    "# Treinando o algoritmo.\n",
    "lr_model.fit(X_train,y_train)"
   ]
  },
  {
   "cell_type": "code",
   "execution_count": null,
   "metadata": {
    "colab": {},
    "colab_type": "code",
    "id": "xvcK3FHsIIZi",
    "outputId": "9cde9a27-8aae-4dc3-b1ac-7403a9b94792"
   },
   "outputs": [],
   "source": [
    "# Visualizando os coeficientes (pesos!)\n",
    "# Interessante observar o valor negativo do peso associado a feature Open (Abertura).\n",
    "lr_model.coef_"
   ]
  },
  {
   "cell_type": "markdown",
   "metadata": {
    "colab_type": "text",
    "id": "CKdPAF5BIIZn"
   },
   "source": [
    "## Dados de Teste"
   ]
  },
  {
   "cell_type": "code",
   "execution_count": null,
   "metadata": {
    "colab": {},
    "colab_type": "code",
    "id": "6uniU5UqIIZp"
   },
   "outputs": [],
   "source": [
    "dt_teste = pd.read_csv('PETR4_teste.csv')"
   ]
  },
  {
   "cell_type": "code",
   "execution_count": null,
   "metadata": {
    "colab": {},
    "colab_type": "code",
    "id": "YEcG7n9SIIZs",
    "outputId": "ebe4c894-feaf-4da8-f374-38b1e7953532"
   },
   "outputs": [],
   "source": [
    "dt_teste.info()"
   ]
  },
  {
   "cell_type": "code",
   "execution_count": null,
   "metadata": {
    "colab": {},
    "colab_type": "code",
    "id": "A51bufEMIIZw",
    "outputId": "09503725-706f-459c-a3ca-83d64d47fa71"
   },
   "outputs": [],
   "source": [
    "dt_teste.count()"
   ]
  },
  {
   "cell_type": "code",
   "execution_count": null,
   "metadata": {
    "colab": {},
    "colab_type": "code",
    "id": "6J9o4N01IIZ0",
    "outputId": "5c89bd33-0789-40b9-c7af-cb24ae65987a"
   },
   "outputs": [],
   "source": [
    "dt_teste.isnull().sum()"
   ]
  },
  {
   "cell_type": "code",
   "execution_count": null,
   "metadata": {
    "colab": {},
    "colab_type": "code",
    "id": "pdswQOsuIIZ4"
   },
   "outputs": [],
   "source": [
    "dt_teste.dropna(inplace=True)"
   ]
  },
  {
   "cell_type": "code",
   "execution_count": null,
   "metadata": {
    "colab": {},
    "colab_type": "code",
    "id": "jfPNpDECIIZ8"
   },
   "outputs": [],
   "source": [
    "# Variaveis do modelo\n",
    "features = ['Open','High','Low','Volume']\n",
    "X_teste = dt_teste[features]"
   ]
  },
  {
   "cell_type": "code",
   "execution_count": null,
   "metadata": {
    "colab": {},
    "colab_type": "code",
    "id": "2-2jhwWGIIZ-"
   },
   "outputs": [],
   "source": [
    "y_teste = dt_teste['Close']"
   ]
  },
  {
   "cell_type": "code",
   "execution_count": null,
   "metadata": {
    "colab": {},
    "colab_type": "code",
    "id": "PlJeKnFrIIaA",
    "outputId": "c599d3cd-0149-487f-b4d4-e1aa91b2f39d"
   },
   "outputs": [],
   "source": [
    "X_teste.head()"
   ]
  },
  {
   "cell_type": "code",
   "execution_count": null,
   "metadata": {
    "colab": {},
    "colab_type": "code",
    "id": "UXUxIv2mIIaD",
    "outputId": "57e8c382-163f-40b2-e3e3-b7c1b4574b23"
   },
   "outputs": [],
   "source": [
    "y_teste.head()"
   ]
  },
  {
   "cell_type": "code",
   "execution_count": null,
   "metadata": {
    "colab": {},
    "colab_type": "code",
    "id": "KlBwjhZ1IIaG",
    "outputId": "931423df-f9d3-4297-cfa7-8052b510c105"
   },
   "outputs": [],
   "source": [
    "# Predizendo 10 preços\n",
    "lr_model.predict(X_teste)[:10]"
   ]
  },
  {
   "cell_type": "code",
   "execution_count": null,
   "metadata": {
    "colab": {},
    "colab_type": "code",
    "id": "_lL9I9_HIIaI",
    "outputId": "b1debb6c-6711-4d40-b3a7-5b87cebc89ea"
   },
   "outputs": [],
   "source": [
    "# Visualizando preços reais.\n",
    "y_teste[:10]"
   ]
  },
  {
   "cell_type": "code",
   "execution_count": null,
   "metadata": {
    "colab": {},
    "colab_type": "code",
    "id": "7pFb_SndIIaM",
    "outputId": "a769f634-95da-4cd1-88d3-6b90b20089d3"
   },
   "outputs": [],
   "source": [
    "%matplotlib notebook\n",
    "# Armazena dados preditos em dataframe.\n",
    "predicoes_df = pd.DataFrame(lr_model.predict(X_teste)[:10])\n",
    "\n",
    "# Armazena dados reais em dataframe.\n",
    "precos_reais_df= pd.DataFrame(y_teste[:10].values)\n",
    "\n",
    "# Define o estilo do gráfico.\n",
    "plt.style.use(\"ggplot\")\n",
    "\n",
    "# Definição de título de eixos do gráfico.\n",
    "plt.xlabel('Preços')\n",
    "plt.ylabel('Indice')\n",
    "plt.title('Precos Reais vs Predições')\n",
    "\n",
    "# Ordena os valores e plota as linhas\n",
    "plt.plot(predicoes_df.sort_values(by=0),predicoes_df.index)\n",
    "plt.plot(precos_reais_df.sort_values(by=0),precos_reais_df.index)\n",
    "\n",
    "# Define legenda do gráfico\n",
    "plt.legend(['Predições','Preços Reais'])\n"
   ]
  },
  {
   "cell_type": "markdown",
   "metadata": {
    "colab_type": "text",
    "id": "VLDIPyY-IIaP"
   },
   "source": [
    "# Validando o modelo de Regressão"
   ]
  },
  {
   "cell_type": "markdown",
   "metadata": {
    "colab_type": "text",
    "id": "S5HI93H6IIaP"
   },
   "source": [
    "* Métrica de **RMSE**.\n",
    "* Métrica utiliza medidas dependentes."
   ]
  },
  {
   "cell_type": "code",
   "execution_count": null,
   "metadata": {
    "colab": {},
    "colab_type": "code",
    "id": "-9U1Ix1NIIaQ",
    "outputId": "904b0efe-bace-4474-9ea4-ac20a2a26e5f"
   },
   "outputs": [],
   "source": [
    "# mean_squared_error significa o erro médio.\n",
    "# Quanto mais próximo de 0 melhor.\n",
    "\n",
    "mean_squared_error(y_teste, lr_model.predict(X_teste))"
   ]
  },
  {
   "cell_type": "code",
   "execution_count": null,
   "metadata": {
    "colab": {},
    "colab_type": "code",
    "id": "vdZTMvE1IIaS",
    "outputId": "a74af1e7-b27e-4d2e-c33d-7ee74e239258"
   },
   "outputs": [],
   "source": [
    "# RMSE - Root Mean Square Error\n",
    "# Utiliza unidades dependentes\n",
    "\n",
    "RMSE = mean_squared_error(y_teste, lr_model.predict(X_teste))**0.5\n",
    "RMSE"
   ]
  },
  {
   "cell_type": "markdown",
   "metadata": {
    "colab_type": "text",
    "id": "b4BcbuF7IIaU"
   },
   "source": [
    "# Da pra melhorar o modelo?"
   ]
  },
  {
   "cell_type": "markdown",
   "metadata": {
    "colab_type": "text",
    "id": "Bq-dtUX1IIaU"
   },
   "source": [
    "- Teste com Open e High apenas.\n",
    "- Normalização dos dados."
   ]
  },
  {
   "cell_type": "code",
   "execution_count": null,
   "metadata": {
    "colab": {},
    "colab_type": "code",
    "id": "yjFK6Q1sIIaV"
   },
   "outputs": [],
   "source": [
    "lr_model2 = LinearRegression(normalize=True)"
   ]
  },
  {
   "cell_type": "code",
   "execution_count": null,
   "metadata": {
    "colab": {},
    "colab_type": "code",
    "id": "bbpEs7zVIIaW"
   },
   "outputs": [],
   "source": [
    "features = ['Open','High']\n",
    "treino2 = treino[features]"
   ]
  },
  {
   "cell_type": "code",
   "execution_count": null,
   "metadata": {
    "colab": {},
    "colab_type": "code",
    "id": "YnSnL68lIIaX",
    "outputId": "df38c928-538b-44c6-a76b-e0af88a302b5"
   },
   "outputs": [],
   "source": [
    "treino2.head()"
   ]
  },
  {
   "cell_type": "code",
   "execution_count": null,
   "metadata": {
    "colab": {},
    "colab_type": "code",
    "id": "FuCHBH5nIIaZ",
    "outputId": "fa989551-c793-43a3-9577-f5b0ac1a0d8d"
   },
   "outputs": [],
   "source": [
    "# Treina o algoritmo\n",
    "lr_model2.fit(treino2,y_train)"
   ]
  },
  {
   "cell_type": "code",
   "execution_count": null,
   "metadata": {
    "colab": {},
    "colab_type": "code",
    "id": "SeCY32GuIIab",
    "outputId": "89edfd1e-99ee-41b7-976f-b460a70a42d2"
   },
   "outputs": [],
   "source": [
    "# Imprimi os pesos\n",
    "lr_model2.coef_"
   ]
  },
  {
   "cell_type": "code",
   "execution_count": null,
   "metadata": {
    "colab": {},
    "colab_type": "code",
    "id": "Jo9YZW8UIIae"
   },
   "outputs": [],
   "source": [
    "# Variaveis do modelo\n",
    "features = ['Open','High']\n",
    "X_teste = dt_teste[features]"
   ]
  },
  {
   "cell_type": "code",
   "execution_count": null,
   "metadata": {
    "colab": {},
    "colab_type": "code",
    "id": "8LuSy_bEIIaf"
   },
   "outputs": [],
   "source": [
    "y_teste = dt_teste['Close']"
   ]
  },
  {
   "cell_type": "code",
   "execution_count": null,
   "metadata": {
    "colab": {},
    "colab_type": "code",
    "id": "0ReXD7mTIIag",
    "outputId": "507fad47-aadd-4a10-f804-2d583558a2df"
   },
   "outputs": [],
   "source": [
    "# Valida o modelo com o RMSE.\n",
    "RMSE = mean_squared_error(y_teste, lr_model2.predict(X_teste))**0.5\n",
    "RMSE"
   ]
  }
 ],
 "metadata": {
  "colab": {
   "name": "Machine Learning - Regressao-linear.ipynb",
   "provenance": [],
   "version": "0.3.2"
  },
  "kernelspec": {
   "display_name": "Python 3",
   "language": "python",
   "name": "python3"
  },
  "language_info": {
   "codemirror_mode": {
    "name": "ipython",
    "version": 3
   },
   "file_extension": ".py",
   "mimetype": "text/x-python",
   "name": "python",
   "nbconvert_exporter": "python",
   "pygments_lexer": "ipython3",
   "version": "3.6.5"
  }
 },
 "nbformat": 4,
 "nbformat_minor": 1
}
