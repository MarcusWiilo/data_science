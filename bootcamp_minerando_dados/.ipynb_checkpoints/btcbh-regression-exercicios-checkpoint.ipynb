{
 "cells": [
  {
   "cell_type": "code",
   "execution_count": null,
   "metadata": {},
   "outputs": [],
   "source": [
    "import pandas as pd\n",
    "from sklearn.linear_model import LinearRegression\n",
    "from sklearn.model_selection import train_test_split\n",
    "from sklearn.metrics import mean_squared_error\n",
    "import matplotlib.pyplot as plt\n",
    "import plotly.graph_objs as go\n",
    "import plotly.offline as py\n",
    "import plotly\n",
    "plotly.offline.init_notebook_mode()\n",
    "import datetime"
   ]
  },
  {
   "cell_type": "markdown",
   "metadata": {},
   "source": [
    "1) Leia o dataset \"Petr4_train.csv\" que está no diretorio datasets e defina o nome do seu dataframe de **precos**. Complete o código abaixo:"
   ]
  },
  {
   "cell_type": "code",
   "execution_count": null,
   "metadata": {},
   "outputs": [],
   "source": [
    " = pd.read_csv('datasets/')"
   ]
  },
  {
   "cell_type": "markdown",
   "metadata": {},
   "source": [
    "2) Converta o tipo da coluna **Date** para o formato Datetime, complete o código abaixo:"
   ]
  },
  {
   "cell_type": "code",
   "execution_count": null,
   "metadata": {},
   "outputs": [],
   "source": [
    "xxx['Da'] = pd.to_datetime()"
   ]
  },
  {
   "cell_type": "markdown",
   "metadata": {},
   "source": [
    "3) Plote o valor dos preços no periodo analisado com relação as datas. Pense qual seriam os eixos X e y?"
   ]
  },
  {
   "cell_type": "code",
   "execution_count": null,
   "metadata": {},
   "outputs": [],
   "source": [
    "#Defina os valores de x1 e y1\n",
    "\n",
    "x1=xxxx ?\n",
    "y1=xxxx.?\n",
    "\n",
    "\n",
    "data = [go.Scatter(x=x1, y=y1)]\n",
    "layout = go.Layout(\n",
    "    xaxis=dict(\n",
    "        range=['01-01-2018','30-09-2018'],\n",
    "        title='Ano'              \n",
    "    ),\n",
    "    yaxis=dict(\n",
    "        range=[min(x1), max(y1)],\n",
    "        title='Valor da Acao'\n",
    "    ))\n",
    "fig = go.Figure(data = data, layout = layout)\n",
    "py.iplot(fig)"
   ]
  },
  {
   "cell_type": "markdown",
   "metadata": {},
   "source": [
    "4) Plote seus preços em formato candlestick, edite o código abaixo:"
   ]
  },
  {
   "cell_type": "code",
   "execution_count": null,
   "metadata": {},
   "outputs": [],
   "source": [
    "# Visualizando os Candlesticks\n",
    "\n",
    "dados = go.Candlestick(x=precos.Date,\n",
    "                       open=dataset.xx,\n",
    "                       high=dataset.xxx,\n",
    "                       low=dataset.xx,\n",
    "                       close=dataset.e,\n",
    "                       )\n",
    "\n",
    "data=[dados]\n",
    "\n",
    "py.offline.iplot(data,filename='grafico_candlestick')"
   ]
  },
  {
   "cell_type": "markdown",
   "metadata": {},
   "source": [
    "5) Separe as **features** das classes. Edite o código:"
   ]
  },
  {
   "cell_type": "code",
   "execution_count": null,
   "metadata": {},
   "outputs": [],
   "source": [
    "# Feature do modelo\n",
    "features = ['xxx','yyyy']\n",
    "X_train = dataset[xxxx]"
   ]
  },
  {
   "cell_type": "code",
   "execution_count": null,
   "metadata": {},
   "outputs": [],
   "source": [
    "# Visualizando os dados sem as classes\n",
    "xx.head()"
   ]
  },
  {
   "cell_type": "code",
   "execution_count": null,
   "metadata": {},
   "outputs": [],
   "source": [
    "# Y recebe o preço de fechamento (classes)\n",
    "y_train = xxxx['Close']"
   ]
  },
  {
   "cell_type": "code",
   "execution_count": null,
   "metadata": {},
   "outputs": [],
   "source": [
    "# Visualizando o dataframe y\n",
    "y_train.head()"
   ]
  },
  {
   "cell_type": "code",
   "execution_count": null,
   "metadata": {},
   "outputs": [],
   "source": [
    "6) Instância o algoritmo de Regressão Linear"
   ]
  },
  {
   "cell_type": "code",
   "execution_count": null,
   "metadata": {},
   "outputs": [],
   "source": [
    "# Cria um objeto do tipo LinearRegression.\n",
    "lr_model = LinearXXxxxx()"
   ]
  },
  {
   "cell_type": "code",
   "execution_count": null,
   "metadata": {},
   "outputs": [],
   "source": [
    "# Treinando o algoritmo.\n",
    "lr_model.fit(X_train,y_train)"
   ]
  },
  {
   "cell_type": "markdown",
   "metadata": {},
   "source": [
    "7) Visualize o valor dos pesos do Modelo"
   ]
  },
  {
   "cell_type": "code",
   "execution_count": null,
   "metadata": {},
   "outputs": [],
   "source": [
    "# Visualizando os coeficientes (pesos!)\n",
    "# \n",
    "lr_model.xxxx"
   ]
  },
  {
   "cell_type": "markdown",
   "metadata": {},
   "source": [
    "8) Carregue os dados de teste"
   ]
  },
  {
   "cell_type": "code",
   "execution_count": null,
   "metadata": {},
   "outputs": [],
   "source": [
    "dt_teste = pd.read_csv('PETR4_teste.csv')"
   ]
  },
  {
   "cell_type": "markdown",
   "metadata": {},
   "source": [
    "9) Responda como você pode inspecionar o dado antes de predizer valores?\n"
   ]
  },
  {
   "cell_type": "code",
   "execution_count": null,
   "metadata": {},
   "outputs": [],
   "source": []
  },
  {
   "cell_type": "markdown",
   "metadata": {},
   "source": [
    "10) Separe as features das Classes"
   ]
  },
  {
   "cell_type": "code",
   "execution_count": null,
   "metadata": {},
   "outputs": [],
   "source": []
  },
  {
   "cell_type": "markdown",
   "metadata": {},
   "source": [
    "11) Faça a predição de 10 preços:"
   ]
  },
  {
   "cell_type": "code",
   "execution_count": null,
   "metadata": {},
   "outputs": [],
   "source": [
    "# Predizendo 10 preços com o método predict\n",
    "xxxx.predict(X_teste)[:10]"
   ]
  },
  {
   "cell_type": "markdown",
   "metadata": {},
   "source": [
    "12) Visualize os valores reais dos 10 precos que você fez a predição anteriormente."
   ]
  },
  {
   "cell_type": "code",
   "execution_count": null,
   "metadata": {},
   "outputs": [],
   "source": [
    "# Visualizando preços reais.\n",
    "xxxx[:10]"
   ]
  },
  {
   "cell_type": "markdown",
   "metadata": {},
   "source": [
    "13) Plote a linha de preços originais e as predições com grafico abaixo. Edite o código:"
   ]
  },
  {
   "cell_type": "code",
   "execution_count": null,
   "metadata": {},
   "outputs": [],
   "source": [
    "%matplotlib notebook\n",
    "# Armazena dados preditos em dataframe.\n",
    "predicoes_df = pd.DataFrame(xxx.predict(X_teste)[:10])\n",
    "\n",
    "# Armazena dados reais em dataframe.\n",
    "precos_reais_df= pd.DataFrame(xxx[:10].values)\n",
    "\n",
    "# Define o estilo do gráfico.\n",
    "plt.style.use(\"ggplot\")\n",
    "\n",
    "# Definição de título de eixos do gráfico.\n",
    "plt.xlabel('Preços')\n",
    "plt.ylabel('Indice')\n",
    "plt.title('Precos Reais vs Predições')\n",
    "\n",
    "# Ordena os valores e plota as linhas\n",
    "plt.plot(predicoes_df.sort_values(by=0),predicoes_df.index)\n",
    "plt.plot(precos_reais_df.sort_values(by=0),precos_reais_df.index)\n",
    "\n",
    "# Define legenda do gráfico\n",
    "plt.legend(['Predições','Preços Reais'])"
   ]
  },
  {
   "cell_type": "markdown",
   "metadata": {},
   "source": [
    "14) Valide seu modelo com o RMSE, edite o código abaixo:"
   ]
  },
  {
   "cell_type": "code",
   "execution_count": null,
   "metadata": {},
   "outputs": [],
   "source": [
    "# RMSE - Root Mean Square Error\n",
    "# Utiliza unidades dependentes\n",
    "\n",
    "RMSE = mean_squared_error(xxxx, xxx_model.predict(X_teste))**0.5\n",
    "RMSE"
   ]
  },
  {
   "cell_type": "markdown",
   "metadata": {},
   "source": [
    "**Discussão:**\n",
    "    * Como melhorar os modelos?\n",
    "    * O que você acha que pode melhorar o modelo?\n",
    "    * Dados externos podem influênciar?"
   ]
  }
 ],
 "metadata": {
  "kernelspec": {
   "display_name": "Python 3",
   "language": "python",
   "name": "python3"
  },
  "language_info": {
   "codemirror_mode": {
    "name": "ipython",
    "version": 3
   },
   "file_extension": ".py",
   "mimetype": "text/x-python",
   "name": "python",
   "nbconvert_exporter": "python",
   "pygments_lexer": "ipython3",
   "version": "3.6.5"
  }
 },
 "nbformat": 4,
 "nbformat_minor": 2
}
